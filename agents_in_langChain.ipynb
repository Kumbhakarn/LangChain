{
 "cells": [
  {
   "cell_type": "code",
   "execution_count": 3,
   "id": "492c577e",
   "metadata": {},
   "outputs": [],
   "source": [
    "from langchain_groq import ChatGroq\n",
    "from langchain_core.tools import tool\n",
    "import requests"
   ]
  },
  {
   "cell_type": "code",
   "execution_count": 4,
   "id": "ab7e2474",
   "metadata": {},
   "outputs": [],
   "source": [
    "from langchain_community.tools import DuckDuckGoSearchRun\n",
    "\n",
    "# SearchTool\n",
    "search_tool = DuckDuckGoSearchRun()\n",
    "results = search_tool.invoke('top news in India today in cricket')"
   ]
  },
  {
   "cell_type": "code",
   "execution_count": 5,
   "id": "6a5fe50c",
   "metadata": {},
   "outputs": [
    {
     "data": {
      "text/plain": [
       "\"Cricket News: Latest Updates, Information, Schedule, News on Cricket. Get Ball by ball updates on Cricket match, Upcoming Cricket Series and Schedules at NDTV Sports Stay up-to-date with the latest cricket news and updates from ESPNcricinfo. Get breaking news, analysis, match reports, and more on cricket from around the world. Get the latest Cricket news, live match updates, ICC schedules, photos, videos, player stats, and full coverage of International, domestic, and T20 matches on news18. ... From Sai Sudharsan To Prasidh Krishna, All Top Major Award Winners In IPL 2025. 2/14 '18 Triumphs 18th': RCB Win IPL 2025 Crown With Win Over PBKS In Ahmedabad | In Pictures ... Latest cricket news, updates of International, domestic & T20 matches. Get Match Results, Analysis, Schedule of Matches at InsideSport Home Cricket World Test Championship WTC Final 2025 ICC Rankings India vs England Squads Results Schedule & Venues IPL 2025 IPL 2025 Schedule IPL Points Table IPL 2025 Tickets IPL 2025 Auction IPL 2025 Retention ... Cricket News: Latest and breaking cricket news, trending cricket topic, upcoming match details, players updates, and IPL 2024 news at Mint.\""
      ]
     },
     "execution_count": 5,
     "metadata": {},
     "output_type": "execute_result"
    }
   ],
   "source": [
    "results"
   ]
  },
  {
   "cell_type": "code",
   "execution_count": 6,
   "id": "acb426be",
   "metadata": {},
   "outputs": [],
   "source": [
    "llm = ChatGroq(\n",
    "    model_name = 'llama3-8b-8192',\n",
    "    temperature = 0.5,\n",
    "    streaming=False\n",
    ")"
   ]
  },
  {
   "cell_type": "code",
   "execution_count": 7,
   "id": "c53bf5ee",
   "metadata": {},
   "outputs": [
    {
     "data": {
      "text/plain": [
       "AIMessage(content=\"Hello! I'm just an AI, so I don't have feelings like humans do, but I'm functioning properly and ready to help with any questions or tasks you may have. How can I assist you today?\", additional_kwargs={}, response_metadata={'token_usage': {'completion_tokens': 44, 'prompt_tokens': 14, 'total_tokens': 58, 'completion_time': 0.036666667, 'prompt_time': 0.002283486, 'queue_time': 0.24770551, 'total_time': 0.038950153}, 'model_name': 'llama3-8b-8192', 'system_fingerprint': 'fp_dadc9d6142', 'finish_reason': 'stop', 'logprobs': None}, id='run--7aa8c7ce-b3f0-4b89-b1c3-ec46e7dbea1c-0', usage_metadata={'input_tokens': 14, 'output_tokens': 44, 'total_tokens': 58})"
      ]
     },
     "execution_count": 7,
     "metadata": {},
     "output_type": "execute_result"
    }
   ],
   "source": [
    "llm.invoke('Hello How are you')"
   ]
  },
  {
   "cell_type": "code",
   "execution_count": null,
   "metadata": {},
   "outputs": [],
   "source": [
    "from langchain.agents import create_react_agent, AgentExecutor\n",
    "from langchain import hub # we have downloaded the prompt from langchain hub"
   ]
  },
  {
   "cell_type": "code",
   "execution_count": null,
   "metadata": {},
   "outputs": [
    {
     "name": "stderr",
     "output_type": "stream",
     "text": [
      "e:\\15_CampusX_LangChain\\venv\\lib\\site-packages\\langsmith\\client.py:272: LangSmithMissingAPIKeyWarning: API key must be provided when using hosted LangSmith API\n",
      "  warnings.warn(\n"
     ]
    }
   ],
   "source": [
    "# Step-2 Pull the ReAct prompt from LangChain hub\n",
    "# react= Reasoning + Action --> MostFamous\n",
    "#  Harrison Chase \n",
    "prompt = hub.pull(\"hwchase17/react\") # pull the standard ReAct Agent prompt\n",
    "# prompt is prbuild and we are calling this prompt in our model its a prebuilt prompt\n",
    "# https://smith.langchain.com/hub/ --> check out propts here"
   ]
  },
  {
   "cell_type": "code",
   "execution_count": 10,
   "metadata": {},
   "outputs": [],
   "source": [
    "# Step-3 Create the ReAct agent manually with the pulled prompt\n",
    "agent = create_react_agent(\n",
    "    llm=llm,\n",
    "    tools=[search_tool],\n",
    "    prompt=prompt\n",
    ")"
   ]
  },
  {
   "cell_type": "code",
   "execution_count": 11,
   "metadata": {},
   "outputs": [],
   "source": [
    "# Step-4 Wrap it with AgentExecutor\n",
    "agent_executor = AgentExecutor(\n",
    "    agent = agent,\n",
    "    tools = [search_tool],\n",
    "    verbose=True\n",
    ")"
   ]
  },
  {
   "cell_type": "code",
   "execution_count": 13,
   "metadata": {},
   "outputs": [
    {
     "name": "stdout",
     "output_type": "stream",
     "text": [
      "\n",
      "\n",
      "\u001b[1m> Entering new AgentExecutor chain...\u001b[0m\n"
     ]
    },
    {
     "name": "stdout",
     "output_type": "stream",
     "text": [
      "\u001b[32;1m\u001b[1;3mThought: The question is asking for the capital of France and the 5 most visited places in France. I should use the duckduckgo_search tool to find the answers.\n",
      "\n",
      "Action: duckduckgo_search\n",
      "Action Input: \"capital of France\"\u001b[0m\u001b[36;1m\u001b[1;3mParis, city and capital of France, located along the Seine River, in the north-central part of the country. Paris is one of the world's most important and attractive cities, famed for its gastronomy, haute couture, painting, literature, and intellectual community. Learn more about Paris in this article. Learn about Paris, the capital of France, its history, population, weather, and top places to visit. Discover the iconic sights, the cultural wonders, and the culinary delights of the City of Light. Paris Overview, the capital of France, is esteemed by and large for its everlasting classiness, social excess, and famous achievements.France is home to world-famous attractions like the Eiffel Tower, the Eiffel Pinnacle, Louver Gallery, and Notre Dame Church. Paris is a worldwide community local area for craftsmanship, style, and gastronomy. Paris (French pronunciation: [paʁi] ) is the capital and largest city of France. With an estimated population of 2,048,472 residents in January 2025 in an area of more than 105 km2 (41 sq mi), Paris is the fourth-most populous city in the European Union and the 30th most densely populated city in the world in 2022. Paris, the capital of France, is a city renowned for its rich history, stunning architecture, and vibrant culture. Known as \"La Ville Lumière\" or \"The City of Light,\" Paris has long been a global center for art, fashion, gastronomy, and culture. Its influence on the world stage is unparalleled, making it one of the most visited cities on the ...\u001b[0m\u001b[32;1m\u001b[1;3mAction: duckduckgo_search\n",
      "Action Input: \"most visited places in France\"\u001b[0m\u001b[36;1m\u001b[1;3mRead on to discover 20 of the most beautiful places to visit in France. Paris . Paris's famous Place des Vosges. Heather Durham/Travel + Leisure. Whether it's your first or 50th trip to the city It does not include free admission sites such as Notre Dame in Paris and the Gothic cathedrals of France, the park of Versailles Palace, the shrines of Rocamadour and Lourdes, the old town of Sarlat, or the Cité of Carcassonne. Top 10 Most Visited Sites and Monuments in France. France has a large number of sites and monuments. Explore the top 100 tourist attractions in France below and start crafting your perfect itinerary. Top 100 Tourist Attractions in France To Visit. 1. ... Disneyland Paris: Europe's most visited theme park. 10. Carcassonne, Languedoc: Fortified medieval citadel with fairy-tale turrets. Further Reading: Best Landmarks in France to See. Cyclists by the Château de Chambord, Loire Valley, France. Kate Tartachna/Shutterstock 8. The Loire Valley. Best for romantic château-hopping. No place does châteaux like France. For first-timers, the château-strewn Loire Valley - an hour's hop by train from Paris, to Tours - assures instant immersion. Roman oenophiles first planted ... Location: Southeastern part of the country. Best time to visit: Late Spring (for lavender fields in bloom and ideal weather for exploring) . Activities on offer: Visiting lavender fields, exploring hilltop villages, wine tasting, and hiking in the Luberon region. Accommodation: Benvengudo (Les Baux-de-Provence), Château de Valmer (La Croix-Valmer), and Le Mas de la Rose (Orgon) .\u001b[0m\u001b[32;1m\u001b[1;3mThought: I have gathered the information needed to answer the question. I now know the capital of France is Paris, and the 5 most visited places in France are Disneyland Paris, Carcassonne, Loire Valley, Mont Saint-Michel, and the French Riviera.\n",
      "\n",
      "Final Answer: The capital of France is Paris, and the 5 most visited places in France are Disneyland Paris, Carcassonne, Loire Valley, Mont Saint-Michel, and the French Riviera.\u001b[0m\n",
      "\n",
      "\u001b[1m> Finished chain.\u001b[0m\n"
     ]
    }
   ],
   "source": [
    "# Step-5 Invoke\n",
    "response = agent_executor.invoke({\"input\":\"what is the capital of france and 5 most visited places in france\"})"
   ]
  },
  {
   "cell_type": "markdown",
   "id": "db414926",
   "metadata": {},
   "source": [
    "### New custom tool add"
   ]
  },
  {
   "cell_type": "code",
   "execution_count": 15,
   "metadata": {},
   "outputs": [],
   "source": [
    "@tool\n",
    "def get_weather_data(city:str) -> str:\n",
    "    \"\"\"\n",
    "    This function fetches the current weather data for a given city \n",
    "    \"\"\"\n",
    "    url = f\"http://api.weatherstack.com/current?access_key=eeba83df91e69100e4f26891a5ba4054&query={city}\"\n",
    "    response = requests.get(url)\n",
    "    return response.json()"
   ]
  },
  {
   "cell_type": "code",
   "execution_count": null,
   "metadata": {},
   "outputs": [],
   "source": [
    "# Model Calling\n",
    "llm = ChatGroq(\n",
    "    model_name = 'llama3-8b-8192',\n",
    "    temperature = 0.5,\n",
    "    streaming=False\n",
    ")"
   ]
  },
  {
   "cell_type": "code",
   "execution_count": null,
   "metadata": {},
   "outputs": [
    {
     "name": "stderr",
     "output_type": "stream",
     "text": [
      "e:\\15_CampusX_LangChain\\venv\\lib\\site-packages\\langsmith\\client.py:272: LangSmithMissingAPIKeyWarning: API key must be provided when using hosted LangSmith API\n",
      "  warnings.warn(\n"
     ]
    }
   ],
   "source": [
    "from langchain.agents import create_react_agent, AgentExecutor\n",
    "from langchain import hub \n",
    "\n",
    "# prompt\n",
    "prompt = hub.pull(\"hwchase17/react\")\n",
    "\n",
    "# Step-3 Create the ReAct agent manually with the pulled prompt\n",
    "agent = create_react_agent(\n",
    "    llm=llm,\n",
    "    tools=[search_tool, get_weather_data],\n",
    "    prompt=prompt\n",
    ")"
   ]
  },
  {
   "cell_type": "code",
   "execution_count": 18,
   "metadata": {},
   "outputs": [],
   "source": [
    "# Step-4 Wrap it with AgentExecutor\n",
    "agent_executor = AgentExecutor(\n",
    "    agent = agent,\n",
    "    tools = [search_tool,get_weather_data],\n",
    "    verbose=True\n",
    ")"
   ]
  },
  {
   "cell_type": "code",
   "execution_count": 20,
   "metadata": {},
   "outputs": [
    {
     "name": "stdout",
     "output_type": "stream",
     "text": [
      "\n",
      "\n",
      "\u001b[1m> Entering new AgentExecutor chain...\u001b[0m\n",
      "\u001b[32;1m\u001b[1;3mThought: I need to find the capital of Madhya Pradesh first, then I can use that information to get the current weather condition.\n",
      "\n",
      "Action: duckduckgo_search\n",
      "Action Input: \"capital of Madhya Pradesh\"\u001b[0m\u001b[36;1m\u001b[1;3mIndore (/ ɪnˈdɔːr / ⓘ; ISO: Indaura, Hindi: [ɪn̪d̪ɔːr]) is the largest and most populous city in the Indian state of Madhya Pradesh. The commercial capital of the state, it has been declared as the cleanest city of India 7th time in a row. [15] It is also considered the largest education hub in central India and houses campuses of both the Indian Institute of Technology and the ... Indore, city, western Madhya Pradesh state, central India. It is located in an upland area on the Saraswati and Khan rivers, which are tributaries of the Shipra River. Indore was founded in 1715 as a trade market on the Narmada River valley route by local landowners, who erected Indreshwar Temple (1741), from which the name Indore is derived. It became the capital of the Indore princely state ... The name Indore is due to this diety. It is the largest city in Madhya Pradesh state in central India . It is among the million+ population cities of India with a population of 32,76,697 (2011). It is the commercial capital of the state of Madhya Pradesh. Indore city presents a happy blend of historical past and promises of rapid future ... Its capital is Bhopal, and Madhya Pradesh is the second-largest Indian state by area and the fifth-largest state by population with over 72 million residents. It borders the states of Uttar Pradesh, Chhattisgarh, Maharashtra, Gujarat, and Rajasthan. Bhopal is the capital city of Madhya Pradesh, known for its historical significance, lakes, and rich cultural heritage. It serves as the political and administrative hub, housing the Madhya Pradesh Legislative Assembly, Secretariat, and High Court Bench.\u001b[0m\u001b[32;1m\u001b[1;3mThought: Now that I know the capital of Madhya Pradesh is Bhopal, I can use that information to find the current weather condition.\n",
      "\n",
      "Action: get_weather_data\n",
      "Action Input: Bhopal\u001b[0m\u001b[33;1m\u001b[1;3m{'request': {'type': 'City', 'query': 'Bhopal, India', 'language': 'en', 'unit': 'm'}, 'location': {'name': 'Bhopal', 'country': 'India', 'region': 'Madhya Pradesh', 'lat': '23.267', 'lon': '77.400', 'timezone_id': 'Asia/Kolkata', 'localtime': '2025-06-11 15:22', 'localtime_epoch': 1749655320, 'utc_offset': '5.50'}, 'current': {'observation_time': '09:52 AM', 'temperature': 40, 'weather_code': 116, 'weather_icons': ['https://cdn.worldweatheronline.com/images/wsymbols01_png_64/wsymbol_0002_sunny_intervals.png'], 'weather_descriptions': ['Partly cloudy'], 'astro': {'sunrise': '05:34 AM', 'sunset': '07:07 PM', 'moonrise': '07:26 PM', 'moonset': '05:08 AM', 'moon_phase': 'Full Moon', 'moon_illumination': 100}, 'air_quality': {'co': '358.9', 'no2': '4.81', 'o3': '145', 'so2': '19.425', 'pm2_5': '87.135', 'pm10': '427.35', 'us-epa-index': '4', 'gb-defra-index': '4'}, 'wind_speed': 23, 'wind_degree': 44, 'wind_dir': 'NE', 'pressure': 1001, 'precip': 0, 'humidity': 20, 'cloudcover': 50, 'feelslike': 40, 'uv_index': 5, 'visibility': 6, 'is_day': 'yes'}}\u001b[0m\u001b[32;1m\u001b[1;3mThought: I now know the capital of Madhya Pradesh is Bhopal, and I also have the current weather condition for Bhopal.\n",
      "\n",
      "Final Answer: The capital of Madhya Pradesh is Bhopal, and the current weather condition is Partly cloudy with a temperature of 40 degrees Celsius.\u001b[0m\n",
      "\n",
      "\u001b[1m> Finished chain.\u001b[0m\n",
      "{'input': \"Find the capital of Madhya Pradesh, then find it's current weather condition?\", 'output': 'The capital of Madhya Pradesh is Bhopal, and the current weather condition is Partly cloudy with a temperature of 40 degrees Celsius.'}\n"
     ]
    }
   ],
   "source": [
    "# Step-5 Invoke\n",
    "response = agent_executor.invoke({\"input\":\"Find the capital of Madhya Pradesh, then find it's current weather condition?\"})\n",
    "print(response)"
   ]
  },
  {
   "cell_type": "code",
   "execution_count": null,
   "metadata": {},
   "outputs": [],
   "source": []
  },
  {
   "cell_type": "code",
   "execution_count": null,
   "metadata": {},
   "outputs": [],
   "source": []
  },
  {
   "cell_type": "code",
   "execution_count": null,
   "metadata": {},
   "outputs": [],
   "source": []
  },
  {
   "cell_type": "code",
   "execution_count": null,
   "metadata": {},
   "outputs": [],
   "source": []
  }
 ],
 "metadata": {
  "kernelspec": {
   "display_name": "venv",
   "language": "python",
   "name": "python3"
  },
  "language_info": {
   "codemirror_mode": {
    "name": "ipython",
    "version": 3
   },
   "file_extension": ".py",
   "mimetype": "text/x-python",
   "name": "python",
   "nbconvert_exporter": "python",
   "pygments_lexer": "ipython3",
   "version": "3.10.11"
  }
 },
 "nbformat": 4,
 "nbformat_minor": 5
}
