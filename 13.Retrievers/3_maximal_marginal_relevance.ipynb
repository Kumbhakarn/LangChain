{
 "cells": [
  {
   "cell_type": "markdown",
   "id": "5be55293",
   "metadata": {},
   "source": [
    "### Maximal Marginal Retriever"
   ]
  },
  {
   "cell_type": "code",
   "execution_count": null,
   "id": "2a19b39a",
   "metadata": {},
   "outputs": [],
   "source": [
    "from langchain_community.vectorstores import FAISS\n",
    "from langchain_community.embeddings import HuggingFaceEmbeddings\n",
    "from langchain_core.documents import Document\n"
   ]
  },
  {
   "cell_type": "code",
   "execution_count": 3,
   "id": "af897cb1",
   "metadata": {},
   "outputs": [],
   "source": [
    "# Sample documents\n",
    "docs = [\n",
    "    Document(page_content=\"LangChain makes it easy to work with LLMs.\"),\n",
    "    Document(page_content=\"LangChain is used to build LLM based applications.\"),\n",
    "    Document(page_content=\"Chroma is used to store and search document embeddings.\"),\n",
    "    Document(page_content=\"Embeddings are vector representations of text.\"),\n",
    "    Document(page_content=\"MMR helps you get diverse results when doing similarity search.\"),\n",
    "    Document(page_content=\"LangChain supports Chroma, FAISS, Pinecone, and more.\"),\n",
    "]"
   ]
  },
  {
   "cell_type": "code",
   "execution_count": 15,
   "id": "94a76a46",
   "metadata": {},
   "outputs": [],
   "source": [
    "# Step2- Initialize Embedding model \n",
    "\n",
    "embedding_model = HuggingFaceEmbeddings(\n",
    "    model_name = 'intfloat/e5-small',\n",
    "    encode_kwargs = {'normalize_embeddings':True}\n",
    ")"
   ]
  },
  {
   "cell_type": "code",
   "execution_count": 16,
   "id": "8d01f092",
   "metadata": {},
   "outputs": [],
   "source": [
    "# Step3- Creae a FAISS vector store for documents \n",
    "vectorstore = FAISS.from_documents(\n",
    "    documents=docs,\n",
    "    embedding=embedding_model\n",
    ")"
   ]
  },
  {
   "cell_type": "code",
   "execution_count": 21,
   "id": "30b08947",
   "metadata": {},
   "outputs": [],
   "source": [
    "# Enable MMR in the retriever\n",
    "retriever = vectorstore.as_retriever(\n",
    "    search_type='mmr', # <--- This enables MMR\n",
    "    search_kwargs={'k':3,\"lambda_mult\":1} # k = top results, lambda_mul = relevance-diversity balance\n",
    ")"
   ]
  },
  {
   "cell_type": "code",
   "execution_count": 19,
   "id": "f4021262",
   "metadata": {},
   "outputs": [],
   "source": [
    "query = \"What is langchain?\"\n",
    "results = retriever.invoke(query)"
   ]
  },
  {
   "cell_type": "code",
   "execution_count": 20,
   "id": "66143115",
   "metadata": {},
   "outputs": [
    {
     "name": "stdout",
     "output_type": "stream",
     "text": [
      "\n",
      "--- Result 1--\n",
      "LangChain is used to build LLM based applications.\n",
      "\n",
      "--- Result 2--\n",
      "LangChain makes it easy to work with LLMs.\n",
      "\n",
      "--- Result 3--\n",
      "LangChain supports Chroma, FAISS, Pinecone, and more.\n"
     ]
    }
   ],
   "source": [
    "for i,doc in enumerate(results):\n",
    "    print(f\"\\n--- Result {i+1}--\")\n",
    "    print(doc.page_content)"
   ]
  },
  {
   "cell_type": "code",
   "execution_count": null,
   "id": "5af42934",
   "metadata": {},
   "outputs": [],
   "source": []
  }
 ],
 "metadata": {
  "kernelspec": {
   "display_name": "venv",
   "language": "python",
   "name": "python3"
  },
  "language_info": {
   "codemirror_mode": {
    "name": "ipython",
    "version": 3
   },
   "file_extension": ".py",
   "mimetype": "text/x-python",
   "name": "python",
   "nbconvert_exporter": "python",
   "pygments_lexer": "ipython3",
   "version": "3.10.11"
  }
 },
 "nbformat": 4,
 "nbformat_minor": 5
}
