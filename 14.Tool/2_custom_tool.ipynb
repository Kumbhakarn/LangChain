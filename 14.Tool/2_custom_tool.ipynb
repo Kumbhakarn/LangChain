{
 "cells": [
  {
   "cell_type": "markdown",
   "id": "30d69b3f",
   "metadata": {},
   "source": [
    "### Customized Tool "
   ]
  },
  {
   "cell_type": "markdown",
   "id": "d0c743ff",
   "metadata": {},
   "source": [
    "### Method1- @tool decorator"
   ]
  },
  {
   "cell_type": "code",
   "execution_count": null,
   "id": "8a16bab1",
   "metadata": {},
   "outputs": [],
   "source": [
    "from langchain_core.tools import tool"
   ]
  },
  {
   "cell_type": "code",
   "execution_count": 13,
   "id": "c6b2364f",
   "metadata": {},
   "outputs": [],
   "source": [
    "# Step1- Create a function\n",
    "def multiply(a,b):\n",
    "    \"\"\"Multiply two numbers\"\"\"\n",
    "    return a * b"
   ]
  },
  {
   "cell_type": "code",
   "execution_count": 14,
   "id": "abca074c",
   "metadata": {},
   "outputs": [],
   "source": [
    "# Step2- add type hints\n",
    "def multiply(a: int, b:int) -> int:\n",
    "    \"\"\"Multiply two numbers\"\"\"\n",
    "    return a * b"
   ]
  },
  {
   "cell_type": "code",
   "execution_count": 15,
   "id": "ad915def",
   "metadata": {},
   "outputs": [],
   "source": [
    "# Step3- add tool decorator\n",
    "@tool\n",
    "def multiply(a:int, b:int) -> int: # Type Hinting\n",
    "    \"\"\"Multiply tow numbers\"\"\"\n",
    "    return a * b"
   ]
  },
  {
   "cell_type": "code",
   "execution_count": 16,
   "id": "6cd2ae16",
   "metadata": {},
   "outputs": [],
   "source": [
    "result = multiply.invoke({\"a\":3,\"b\":5})"
   ]
  },
  {
   "cell_type": "code",
   "execution_count": 17,
   "id": "13db02f0",
   "metadata": {},
   "outputs": [
    {
     "name": "stdout",
     "output_type": "stream",
     "text": [
      "15\n"
     ]
    }
   ],
   "source": [
    "print(result)"
   ]
  },
  {
   "cell_type": "code",
   "execution_count": 18,
   "id": "9701a672",
   "metadata": {},
   "outputs": [
    {
     "name": "stdout",
     "output_type": "stream",
     "text": [
      "multiply\n",
      "Multiply tow numbers\n",
      "{'a': {'title': 'A', 'type': 'integer'}, 'b': {'title': 'B', 'type': 'integer'}}\n"
     ]
    }
   ],
   "source": [
    "print(multiply.name)\n",
    "print(multiply.description)\n",
    "print(multiply.args)"
   ]
  },
  {
   "cell_type": "code",
   "execution_count": 19,
   "id": "d1f30ff6",
   "metadata": {},
   "outputs": [
    {
     "name": "stdout",
     "output_type": "stream",
     "text": [
      "{'description': 'Multiply tow numbers', 'properties': {'a': {'title': 'A', 'type': 'integer'}, 'b': {'title': 'B', 'type': 'integer'}}, 'required': ['a', 'b'], 'title': 'multiply', 'type': 'object'}\n"
     ]
    }
   ],
   "source": [
    "print(multiply.args_schema.model_json_schema())"
   ]
  },
  {
   "cell_type": "markdown",
   "id": "aef5c0a0",
   "metadata": {},
   "source": [
    "### Method2 - Using StructuredTool\n",
    "- for production ready codes"
   ]
  },
  {
   "cell_type": "code",
   "execution_count": 21,
   "id": "14e26de6",
   "metadata": {},
   "outputs": [],
   "source": [
    "from langchain.tools import StructuredTool\n",
    "from pydantic import BaseModel,Field"
   ]
  },
  {
   "cell_type": "code",
   "execution_count": null,
   "id": "b4710602",
   "metadata": {},
   "outputs": [],
   "source": [
    "# Pydantic Class : Inherit from base model\n",
    "class MultiplyInput(BaseModel):\n",
    "    a: int = Field(required=True, description=\"The first number to add\")\n",
    "    b: int = Field(required=True, description=\"The Second number to add\")"
   ]
  },
  {
   "cell_type": "code",
   "execution_count": 23,
   "id": "7d18013d",
   "metadata": {},
   "outputs": [],
   "source": [
    "def multiply_fun(a:int,b:int) -> int:\n",
    "    return a * b"
   ]
  },
  {
   "cell_type": "code",
   "execution_count": 25,
   "id": "71a1f5e2",
   "metadata": {},
   "outputs": [],
   "source": [
    "multiply_tool = StructuredTool.from_function(\n",
    "    func=multiply_fun, # Name of the function\n",
    "    name=\"multiply\",  # Name of the tool\n",
    "    description=\"Multiply two numbers\", # Description of the tool\n",
    "    args_schema=MultiplyInput # Pydantic Class as Input\n",
    ")"
   ]
  },
  {
   "cell_type": "code",
   "execution_count": 26,
   "id": "edea00b8",
   "metadata": {},
   "outputs": [
    {
     "name": "stdout",
     "output_type": "stream",
     "text": [
      "15\n",
      "multiply\n",
      "Multiply two numbers\n",
      "{'a': {'description': 'The first number to add', 'required': True, 'title': 'A', 'type': 'integer'}, 'b': {'description': 'Rhe first number to add', 'required': True, 'title': 'B', 'type': 'integer'}}\n"
     ]
    }
   ],
   "source": [
    "result = multiply_tool.invoke({'a':3,'b':5})\n",
    "\n",
    "print(result)\n",
    "print(multiply_tool.name)\n",
    "print(multiply_tool.description)\n",
    "print(multiply_tool.args)"
   ]
  },
  {
   "cell_type": "markdown",
   "id": "7bf2ac53",
   "metadata": {},
   "source": [
    "### Method3 - BaseTool"
   ]
  },
  {
   "cell_type": "markdown",
   "id": "c608df71",
   "metadata": {},
   "source": [
    "- we try to make our tool by inheariting the BaseTool class\n",
    "- To make deep level customization\n",
    "- asinc version of the tool"
   ]
  },
  {
   "cell_type": "code",
   "execution_count": 27,
   "id": "8141e098",
   "metadata": {},
   "outputs": [],
   "source": [
    "from langchain.tools import BaseTool\n",
    "from typing import Type"
   ]
  },
  {
   "cell_type": "code",
   "execution_count": 28,
   "id": "447b9a0f",
   "metadata": {},
   "outputs": [],
   "source": [
    "## arg schema using pydantic\n",
    "\n",
    "class MultiplyInput(BaseModel):\n",
    "    a: int = Field(required=True, description=\"The first number to add\")\n",
    "    b: int = Field(required=True, description=\"The Second number to add\")"
   ]
  },
  {
   "cell_type": "code",
   "execution_count": null,
   "id": "457e76c5",
   "metadata": {},
   "outputs": [],
   "source": [
    "# Define tool\n",
    "class MultiplyTool(BaseTool):\n",
    "    name: str = 'multiply' # atribute \n",
    "    description: str = \"Multiply two numbers\"\n",
    "    args_schema: Type[BaseModel] = MultiplyInput # argument schema using pydantic\n",
    "\n",
    "    # Run method the name should be the same\n",
    "    def _run(self, a: int, b:int) -> int: # asinc version of the tool to handle the concurancy\n",
    "        return a * b"
   ]
  },
  {
   "cell_type": "code",
   "execution_count": null,
   "id": "90727fc0",
   "metadata": {},
   "outputs": [],
   "source": [
    "multiply_tool = MultiplyTool()"
   ]
  },
  {
   "cell_type": "code",
   "execution_count": 32,
   "id": "9e770ea1",
   "metadata": {},
   "outputs": [
    {
     "name": "stdout",
     "output_type": "stream",
     "text": [
      "15\n",
      "name of the tool:  multiply\n",
      "description of the tool:  Multiply two numbers\n",
      "{'a': {'description': 'The first number to add', 'required': True, 'title': 'A', 'type': 'integer'}, 'b': {'description': 'The Second number to add', 'required': True, 'title': 'B', 'type': 'integer'}}\n"
     ]
    }
   ],
   "source": [
    "result = multiply_tool.invoke({'a':3,'b':5})\n",
    "\n",
    "print(result)\n",
    "print(\"name of the tool: \",multiply_tool.name)\n",
    "print(\"description of the tool: \",multiply_tool.description)\n",
    "print(multiply_tool.args)"
   ]
  },
  {
   "cell_type": "code",
   "execution_count": null,
   "id": "330c433b",
   "metadata": {},
   "outputs": [],
   "source": [
    "# make some customizable tools using langchian_tools"
   ]
  }
 ],
 "metadata": {
  "kernelspec": {
   "display_name": "venv",
   "language": "python",
   "name": "python3"
  },
  "language_info": {
   "codemirror_mode": {
    "name": "ipython",
    "version": 3
   },
   "file_extension": ".py",
   "mimetype": "text/x-python",
   "name": "python",
   "nbconvert_exporter": "python",
   "pygments_lexer": "ipython3",
   "version": "3.10.11"
  }
 },
 "nbformat": 4,
 "nbformat_minor": 5
}
