{
 "cells": [
  {
   "cell_type": "markdown",
   "id": "3edc8b76",
   "metadata": {},
   "source": [
    "### Built-In-Tools"
   ]
  },
  {
   "cell_type": "markdown",
   "id": "e75680b3",
   "metadata": {},
   "source": [
    "### DuckDuckGoSearchRun Tool"
   ]
  },
  {
   "cell_type": "code",
   "execution_count": 1,
   "id": "3be72ff8",
   "metadata": {},
   "outputs": [],
   "source": [
    "from langchain_community.tools import DuckDuckGoSearchRun"
   ]
  },
  {
   "cell_type": "code",
   "execution_count": 7,
   "id": "90be508d",
   "metadata": {},
   "outputs": [
    {
     "name": "stdout",
     "output_type": "stream",
     "text": [
      "Cricket News: Virat Kohli's Royal Challengers Bengaluru clinched their first-ever IPL title in 2025, sparking emotional scenes as Kohli, after 18 seasons of dedicat They've come close so many times, and now, at the 18th attempt, they're IPL champions. An incredible finish to this final, with Shashank hitting Hazlewood for 6, 4, 6, 6 to finish, but it all came ... Get the latest news, updates, predictions and scores for IPL 2025, the cash-rich T20 cricket league in India. Find out about the mega-auction, the teams, the players, the fixtures, the standings and the fantasy tips for IPL 2025. Get the latest news on IPLT20. BCCI.TV | Follow Us. ×. MATCHES; POINTS TABLE; VIDEOS ... TATA IPL 2025 Playoffs tickets to go live on 24th May 23 May, 2025 Read More Copy. Article. Code of Conduct Breach - Match 63: MI vs DC ... Stay updated with the latest cricket news, live scores, match schedules, and in-depth analysis on IPL.com. Explore detailed coverage of T20, ODI, and Test cricket, including exclusive insights on players, teams, and upcoming tournaments. ... IPL Trending News. IPL 2025 Schedule: Full List of Matches, Fixtures, Dates, Venues, and Timings.\n"
     ]
    }
   ],
   "source": [
    "search_tool = DuckDuckGoSearchRun()\n",
    "results = search_tool.invoke('IPL news')\n",
    "print(results)"
   ]
  },
  {
   "cell_type": "code",
   "execution_count": 14,
   "id": "83a41bff",
   "metadata": {},
   "outputs": [
    {
     "name": "stdout",
     "output_type": "stream",
     "text": [
      "Name of the Tool:  duckduckgo_search\n",
      "Description of the tool:  A wrapper around DuckDuckGo Search. Useful for when you need to answer questions about current events. Input should be a search query.\n",
      "Arguments of the tool:  {'query': {'description': 'search query to look up', 'title': 'Query', 'type': 'string'}}\n"
     ]
    }
   ],
   "source": [
    "print(\"Name of the Tool: \",search_tool.name)\n",
    "print(\"Description of the tool: \",search_tool.description)\n",
    "print(\"Arguments of the tool: \",search_tool.args)"
   ]
  },
  {
   "cell_type": "code",
   "execution_count": 16,
   "id": "2b5fe4ad",
   "metadata": {},
   "outputs": [
    {
     "name": "stdout",
     "output_type": "stream",
     "text": [
      "{'description': 'Input for the DuckDuckGo search tool.', 'properties': {'query': {'description': 'search query to look up', 'title': 'Query', 'type': 'string'}}, 'required': ['query'], 'title': 'DDGInput', 'type': 'object'}\n"
     ]
    }
   ],
   "source": [
    "print(search_tool.args_schema.model_json_schema())"
   ]
  },
  {
   "cell_type": "markdown",
   "id": "aada85a7",
   "metadata": {},
   "source": [
    "### Shell Tool"
   ]
  },
  {
   "cell_type": "code",
   "execution_count": 8,
   "id": "c6701134",
   "metadata": {},
   "outputs": [],
   "source": [
    "from langchain_community.tools import ShellTool"
   ]
  },
  {
   "cell_type": "code",
   "execution_count": 12,
   "id": "a21799f2",
   "metadata": {},
   "outputs": [
    {
     "name": "stdout",
     "output_type": "stream",
     "text": [
      "Executing command:\n",
      " whoami\n",
      "laptop-6f0okidq\\akash\n",
      "\n",
      "**************************************************\n",
      "Executing command:\n",
      " list\n",
      "'list' is not recognized as an internal or external command,\n",
      "operable program or batch file.\n",
      "\n"
     ]
    },
    {
     "name": "stderr",
     "output_type": "stream",
     "text": [
      "e:\\15_CampusX_LangChain\\venv\\lib\\site-packages\\langchain_community\\tools\\shell\\tool.py:33: UserWarning: The shell tool has no safeguards by default. Use at your own risk.\n",
      "  warnings.warn(\n",
      "e:\\15_CampusX_LangChain\\venv\\lib\\site-packages\\langchain_community\\tools\\shell\\tool.py:33: UserWarning: The shell tool has no safeguards by default. Use at your own risk.\n",
      "  warnings.warn(\n"
     ]
    }
   ],
   "source": [
    "shell_tool = ShellTool()\n",
    "result1 = shell_tool.invoke(\"whoami\")\n",
    "print(result1)\n",
    "print(\"*\"*50)\n",
    "result2 = shell_tool.invoke(\"list\")\n",
    "print(result2)"
   ]
  },
  {
   "cell_type": "code",
   "execution_count": 17,
   "id": "b2d1e237",
   "metadata": {},
   "outputs": [
    {
     "name": "stdout",
     "output_type": "stream",
     "text": [
      "Executing command:\n",
      " whoami\n",
      "laptop-6f0okidq\\akash\n",
      "\n",
      "**************************************************\n",
      "Executing command:\n",
      " dir\n",
      " Volume in drive E is DATA \n",
      " Volume Serial Number is A4FF-EE93\n",
      "\n",
      " Directory of e:\\15_CampusX_LangChain\\14.Tool\n",
      "\n",
      "10-06-2025  16:45    <DIR>          .\n",
      "10-06-2025  16:32    <DIR>          ..\n",
      "10-06-2025  16:53             6,356 1_Built_in_tools.ipynb\n",
      "10-06-2025  17:13             6,252 2_custom_tool.ipynb\n",
      "               2 File(s)         12,608 bytes\n",
      "               2 Dir(s)  291,572,588,544 bytes free\n",
      "\n"
     ]
    },
    {
     "name": "stderr",
     "output_type": "stream",
     "text": [
      "e:\\15_CampusX_LangChain\\venv\\lib\\site-packages\\langchain_community\\tools\\shell\\tool.py:33: UserWarning: The shell tool has no safeguards by default. Use at your own risk.\n",
      "  warnings.warn(\n",
      "e:\\15_CampusX_LangChain\\venv\\lib\\site-packages\\langchain_community\\tools\\shell\\tool.py:33: UserWarning: The shell tool has no safeguards by default. Use at your own risk.\n",
      "  warnings.warn(\n"
     ]
    }
   ],
   "source": [
    "import platform\n",
    "\n",
    "shell_tool = ShellTool()\n",
    "\n",
    "print(shell_tool.invoke(\"whoami\"))\n",
    "print(\"*\" * 50)\n",
    "\n",
    "if platform.system() == \"Windows\":\n",
    "    print(shell_tool.invoke(\"dir\"))\n",
    "else:\n",
    "    print(shell_tool.invoke(\"ls\"))"
   ]
  },
  {
   "cell_type": "code",
   "execution_count": null,
   "id": "6762848d",
   "metadata": {},
   "outputs": [],
   "source": []
  },
  {
   "cell_type": "code",
   "execution_count": null,
   "id": "9d79ebcf",
   "metadata": {},
   "outputs": [],
   "source": []
  },
  {
   "cell_type": "code",
   "execution_count": null,
   "id": "177c6c41",
   "metadata": {},
   "outputs": [],
   "source": []
  },
  {
   "cell_type": "code",
   "execution_count": null,
   "id": "876d6922",
   "metadata": {},
   "outputs": [],
   "source": []
  },
  {
   "cell_type": "code",
   "execution_count": null,
   "id": "1d87d867",
   "metadata": {},
   "outputs": [],
   "source": []
  },
  {
   "cell_type": "code",
   "execution_count": null,
   "id": "402b2482",
   "metadata": {},
   "outputs": [],
   "source": []
  },
  {
   "cell_type": "code",
   "execution_count": null,
   "id": "814b07fa",
   "metadata": {},
   "outputs": [],
   "source": []
  }
 ],
 "metadata": {
  "kernelspec": {
   "display_name": "venv",
   "language": "python",
   "name": "python3"
  },
  "language_info": {
   "codemirror_mode": {
    "name": "ipython",
    "version": 3
   },
   "file_extension": ".py",
   "mimetype": "text/x-python",
   "name": "python",
   "nbconvert_exporter": "python",
   "pygments_lexer": "ipython3",
   "version": "3.10.11"
  }
 },
 "nbformat": 4,
 "nbformat_minor": 5
}
