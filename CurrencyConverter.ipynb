{
 "cells": [
  {
   "cell_type": "markdown",
   "id": "6eba7f89",
   "metadata": {},
   "source": [
    "### CurrencyConverter"
   ]
  },
  {
   "cell_type": "code",
   "execution_count": 45,
   "id": "bcf4e3dd",
   "metadata": {},
   "outputs": [],
   "source": [
    "from langchain_groq import ChatGroq\n",
    "from langchain_core.tools import tool\n",
    "from langchain_core.messages import HumanMessage\n",
    "import requests\n",
    "from langchain_core.tools import InjectedToolArg\n",
    "from typing import Annotated"
   ]
  },
  {
   "cell_type": "markdown",
   "id": "c82f3687",
   "metadata": {},
   "source": [
    "### Make a customize tool"
   ]
  },
  {
   "cell_type": "code",
   "execution_count": 46,
   "id": "a0c30293",
   "metadata": {},
   "outputs": [],
   "source": [
    "# Make a customize tool\n",
    "\n",
    "# tool-1\n",
    "@tool\n",
    "def get_conversion_factor(base_currency: str, target_currency: str) -> float:\n",
    "  \"\"\"\n",
    "  This function fetches the currency conversion factor between a given base currency and a target currency\n",
    "  \"\"\"\n",
    "  url = f'https://v6.exchangerate-api.com/v6/c754eab14ffab33112e380ca/pair/{base_currency}/{target_currency}'\n",
    "  response = requests.get(url)\n",
    "  return response.json()\n",
    "\n",
    "# tool-2\n",
    "# @tool\n",
    "# def convert(base_currency_value: int, conversion_rate: float) -> float:\n",
    "#     \"\"\"\n",
    "#     Given currency convertor rate this function calculates the target currency value from a given base currency value\n",
    "#     \"\"\"\n",
    "#     return base_currency_value * conversion_rate\n",
    "\n",
    "# tool-2\n",
    "@tool\n",
    "def convert(base_currency_value: int, conversion_rate: Annotated[float, InjectedToolArg]) -> float:\n",
    "    \"\"\"\n",
    "    Given currency convertor rate this function calculates the target currency value from a given base currency value\n",
    "    \"\"\"\n",
    "    return base_currency_value * conversion_rate \n",
    "                              \n",
    "\n",
    "# InjectedToolArg: --> LLM welll not set the values \n",
    "# LLM, do not try to fill this argument. I(the developer/runtime) will inject this value after\n",
    "# running earlier tools."
   ]
  },
  {
   "cell_type": "code",
   "execution_count": 47,
   "id": "99819b35",
   "metadata": {},
   "outputs": [
    {
     "data": {
      "text/plain": [
       "{'base_currency_value': {'title': 'Base Currency Value', 'type': 'integer'},\n",
       " 'conversion_rate': {'title': 'Conversion Rate', 'type': 'number'}}"
      ]
     },
     "execution_count": 47,
     "metadata": {},
     "output_type": "execute_result"
    }
   ],
   "source": [
    "convert.args"
   ]
  },
  {
   "cell_type": "code",
   "execution_count": 48,
   "id": "ffa47dbd",
   "metadata": {},
   "outputs": [
    {
     "data": {
      "text/plain": [
       "{'result': 'success',\n",
       " 'documentation': 'https://www.exchangerate-api.com/docs',\n",
       " 'terms_of_use': 'https://www.exchangerate-api.com/terms',\n",
       " 'time_last_update_unix': 1749600001,\n",
       " 'time_last_update_utc': 'Wed, 11 Jun 2025 00:00:01 +0000',\n",
       " 'time_next_update_unix': 1749686401,\n",
       " 'time_next_update_utc': 'Thu, 12 Jun 2025 00:00:01 +0000',\n",
       " 'base_code': 'USD',\n",
       " 'target_code': 'INR',\n",
       " 'conversion_rate': 85.608}"
      ]
     },
     "execution_count": 48,
     "metadata": {},
     "output_type": "execute_result"
    }
   ],
   "source": [
    "get_conversion_factor.invoke({'base_currency':'USD','target_currency':'INR'})"
   ]
  },
  {
   "cell_type": "code",
   "execution_count": 49,
   "id": "af7b072d",
   "metadata": {},
   "outputs": [
    {
     "data": {
      "text/plain": [
       "856.08"
      ]
     },
     "execution_count": 49,
     "metadata": {},
     "output_type": "execute_result"
    }
   ],
   "source": [
    "convert.invoke({'base_currency_value':10, 'conversion_rate':85.608})"
   ]
  },
  {
   "cell_type": "markdown",
   "id": "1a7a810b",
   "metadata": {},
   "source": [
    "### Buinding the tool"
   ]
  },
  {
   "cell_type": "code",
   "execution_count": 50,
   "id": "5909fa6a",
   "metadata": {},
   "outputs": [],
   "source": [
    "# Call the model\n",
    "llm = ChatGroq(\n",
    "    model_name=\"llama3-8b-8192\",\n",
    "    temperature=0.5,\n",
    "    streaming=False\n",
    ")"
   ]
  },
  {
   "cell_type": "code",
   "execution_count": 51,
   "id": "da075e4a",
   "metadata": {},
   "outputs": [],
   "source": [
    "### Buind the tool\n",
    "llm_with_tools = llm.bind_tools([get_conversion_factor, convert])"
   ]
  },
  {
   "cell_type": "markdown",
   "id": "a9fdd79d",
   "metadata": {},
   "source": [
    "### Tool Calling"
   ]
  },
  {
   "cell_type": "code",
   "execution_count": 52,
   "id": "dc72fbf0",
   "metadata": {},
   "outputs": [],
   "source": [
    "messages = [HumanMessage('What is the conversion factor between USD and INR, and based on that can you convert 10 USD to INR')]"
   ]
  },
  {
   "cell_type": "code",
   "execution_count": 53,
   "id": "f164fa24",
   "metadata": {},
   "outputs": [
    {
     "data": {
      "text/plain": [
       "[HumanMessage(content='What is the conversion factor between USD and INR, and based on that can you convert 10 USD to INR', additional_kwargs={}, response_metadata={})]"
      ]
     },
     "execution_count": 53,
     "metadata": {},
     "output_type": "execute_result"
    }
   ],
   "source": [
    "messages"
   ]
  },
  {
   "cell_type": "code",
   "execution_count": 54,
   "id": "ad2e8f0e",
   "metadata": {},
   "outputs": [],
   "source": [
    "ai_message = llm_with_tools.invoke(messages)"
   ]
  },
  {
   "cell_type": "code",
   "execution_count": 55,
   "id": "7a9d7aea",
   "metadata": {},
   "outputs": [],
   "source": [
    "messages.append(ai_message)"
   ]
  },
  {
   "cell_type": "code",
   "execution_count": 56,
   "id": "2ba15b85",
   "metadata": {},
   "outputs": [
    {
     "data": {
      "text/plain": [
       "[{'name': 'get_conversion_factor',\n",
       "  'args': {'base_currency': 'USD', 'target_currency': 'INR'},\n",
       "  'id': 'call_7qe2',\n",
       "  'type': 'tool_call'},\n",
       " {'name': 'convert',\n",
       "  'args': {'base_currency_value': 10,\n",
       "   'conversion_factor': {'value': {'name': 'conversion_factor',\n",
       "     'value': 'result_from_get_conversion_factor'}}},\n",
       "  'id': 'call_zy1n',\n",
       "  'type': 'tool_call'}]"
      ]
     },
     "execution_count": 56,
     "metadata": {},
     "output_type": "execute_result"
    }
   ],
   "source": [
    "ai_message.tool_calls"
   ]
  },
  {
   "cell_type": "code",
   "execution_count": 57,
   "id": "48c482c7",
   "metadata": {},
   "outputs": [],
   "source": [
    "# ai_messages.tool_calls\n",
    "\n",
    "\n",
    "# As llm has taken two questions at one time so out logic has failed as it called the tool but \n",
    "# also called the agent as well convertor but llm has its last cut of data thet have given a last rate of currency \n",
    "# to improve this we need to import from langcahin_core.tools import InjectedToolArg and typing\n",
    "\n",
    "\n",
    "# [{'name': 'get_conversion_factor',\n",
    "#   'args': {'base_currency': 'USD', 'target_currency': 'INR'},\n",
    "#   'id': 'call_6k84',\n",
    "#   'type': 'tool_call'},\n",
    "#  {'name': 'convert',\n",
    "#   'args': {'base_currency_value': 10, 'conversion_rate': 74.5},\n",
    "#   'id': 'call_696k',\n",
    "#   'type': 'tool_call'}]\n"
   ]
  },
  {
   "cell_type": "markdown",
   "id": "161a5884",
   "metadata": {},
   "source": [
    "---\n",
    "\n",
    "### Explanation of `ai_messages.tool_calls` Output\n",
    "\n",
    "```python\n",
    "[\n",
    "  {\n",
    "    'name': 'get_conversion_factor',\n",
    "    'args': {'base_currency': 'USD', 'target_currency': 'INR'},\n",
    "    'id': 'call_6k84',\n",
    "    'type': 'tool_call'\n",
    "  },\n",
    "  {\n",
    "    'name': 'convert',\n",
    "    'args': {'base_currency_value': 10, 'conversion_rate': 74.5},\n",
    "    'id': 'call_696k',\n",
    "    'type': 'tool_call'\n",
    "  }\n",
    "]\n",
    "```\n",
    "\n",
    "### Description:\n",
    "\n",
    "The LLM handled **two sub-tasks in a single step**, issuing **two tool calls**:\n",
    "\n",
    "1. `get_conversion_factor` – to fetch the exchange rate from USD to INR.\n",
    "2. `convert` – to compute the final conversion of 10 USD to INR using a hardcoded rate (74.5 in this case).\n",
    "\n",
    "### Problem:\n",
    "\n",
    "The logic failed because the LLM tried to:\n",
    "\n",
    "* Call the tool (`get_conversion_factor`), **and**\n",
    "* Use outdated prior knowledge to invoke another tool (`convert`) with a hardcoded `conversion_rate`, **without waiting for the actual rate from the first tool**.\n",
    "\n",
    "### Suggested Fix:\n",
    "\n",
    "To resolve this issue, you should enforce **tool call sequencing** using argument injection. Specifically, use:\n",
    "\n",
    "```python\n",
    "from langchain_core.tools import InjectedToolArg\n",
    "from typing import Annotated\n",
    "```\n",
    "\n",
    "This allows you to **dynamically inject outputs from one tool into another**, ensuring the second tool (`convert`) receives the correct, up-to-date `conversion_rate`.\n",
    "\n",
    "---"
   ]
  },
  {
   "cell_type": "markdown",
   "id": "0d76097d",
   "metadata": {},
   "source": [
    "[{'name': 'get_conversion_factor',\n",
    "  'args': {'base_currency': 'USD', 'target_currency': 'INR'},\n",
    "  'id': 'call_8egf',\n",
    "  'type': 'tool_call'},\n",
    " {'name': 'convert',\n",
    "  'args': {'base_currency': 'USD',\n",
    "   'base_currency_value': 10,\n",
    "   'target_currency': 'INR'},\n",
    "  'id': 'call_k9ep',\n",
    "  'type': 'tool_call'}]"
   ]
  },
  {
   "cell_type": "code",
   "execution_count": 58,
   "id": "6ecac294",
   "metadata": {},
   "outputs": [],
   "source": [
    "import json\n",
    "\n",
    "for tool_call in ai_message.tool_calls:\n",
    "    # print(tool_call)\n",
    "    # execute the 1st tool and get the value of conversion rate\n",
    "    if tool_call ['name'] == 'get_conversion_factor':\n",
    "        tool_message1 = get_conversion_factor.invoke(tool_call)\n",
    "        # print(tool_message1)\n",
    "        # fetch this conversion rate\n",
    "        conversion_rate = json.loads(tool_message1.content)['conversion_rate']\n",
    "        # append this tool message to messages list\n",
    "        messages.append(tool_message1)\n",
    "\n",
    "    # execute the 2nd tool and using the conversion rate from tool-1\n",
    "    if tool_call['name'] == 'convert':\n",
    "        # fetcha the current arg\n",
    "        tool_call['args']['conversion_rate'] = conversion_rate\n",
    "        tool_message2 = convert.invoke(tool_call)\n",
    "        messages.append(tool_message2)"
   ]
  },
  {
   "cell_type": "code",
   "execution_count": 59,
   "id": "e16cbaef",
   "metadata": {},
   "outputs": [
    {
     "data": {
      "text/plain": [
       "[HumanMessage(content='What is the conversion factor between USD and INR, and based on that can you convert 10 USD to INR', additional_kwargs={}, response_metadata={}),\n",
       " AIMessage(content='', additional_kwargs={'tool_calls': [{'id': 'call_7qe2', 'function': {'arguments': '{\"base_currency\":\"USD\",\"target_currency\":\"INR\"}', 'name': 'get_conversion_factor'}, 'type': 'function'}, {'id': 'call_zy1n', 'function': {'arguments': '{\"base_currency_value\":10,\"conversion_factor\":{\"value\":{\"name\":\"conversion_factor\",\"value\":\"result_from_get_conversion_factor\"}}}', 'name': 'convert'}, 'type': 'function'}]}, response_metadata={'token_usage': {'completion_tokens': 159, 'prompt_tokens': 1047, 'total_tokens': 1206, 'completion_time': 0.1325, 'prompt_time': 0.130860807, 'queue_time': 0.24790182200000002, 'total_time': 0.263360807}, 'model_name': 'llama3-8b-8192', 'system_fingerprint': 'fp_179b0f92c9', 'finish_reason': 'tool_calls', 'logprobs': None}, id='run--a06b6f2d-6f5c-4628-a54e-7f6103599f18-0', tool_calls=[{'name': 'get_conversion_factor', 'args': {'base_currency': 'USD', 'target_currency': 'INR'}, 'id': 'call_7qe2', 'type': 'tool_call'}, {'name': 'convert', 'args': {'base_currency_value': 10, 'conversion_factor': {'value': {'name': 'conversion_factor', 'value': 'result_from_get_conversion_factor'}}, 'conversion_rate': 85.608}, 'id': 'call_zy1n', 'type': 'tool_call'}], usage_metadata={'input_tokens': 1047, 'output_tokens': 159, 'total_tokens': 1206}),\n",
       " ToolMessage(content='{\"result\": \"success\", \"documentation\": \"https://www.exchangerate-api.com/docs\", \"terms_of_use\": \"https://www.exchangerate-api.com/terms\", \"time_last_update_unix\": 1749600001, \"time_last_update_utc\": \"Wed, 11 Jun 2025 00:00:01 +0000\", \"time_next_update_unix\": 1749686401, \"time_next_update_utc\": \"Thu, 12 Jun 2025 00:00:01 +0000\", \"base_code\": \"USD\", \"target_code\": \"INR\", \"conversion_rate\": 85.608}', name='get_conversion_factor', tool_call_id='call_7qe2'),\n",
       " ToolMessage(content='856.08', name='convert', tool_call_id='call_zy1n')]"
      ]
     },
     "execution_count": 59,
     "metadata": {},
     "output_type": "execute_result"
    }
   ],
   "source": [
    "messages"
   ]
  },
  {
   "cell_type": "code",
   "execution_count": 61,
   "id": "084b1dd2",
   "metadata": {},
   "outputs": [
    {
     "data": {
      "text/plain": [
       "AIMessage(content='856.08', additional_kwargs={}, response_metadata={'token_usage': {'completion_tokens': 4, 'prompt_tokens': 2736, 'total_tokens': 2740, 'completion_time': 0.003333333, 'prompt_time': 0.34086564, 'queue_time': -0.65317425, 'total_time': 0.344198973}, 'model_name': 'llama3-8b-8192', 'system_fingerprint': 'fp_179b0f92c9', 'finish_reason': 'stop', 'logprobs': None}, id='run--0dc8c9f1-764c-4384-8ac4-0155ce7093cc-0', usage_metadata={'input_tokens': 2736, 'output_tokens': 4, 'total_tokens': 2740})"
      ]
     },
     "execution_count": 61,
     "metadata": {},
     "output_type": "execute_result"
    }
   ],
   "source": [
    "# Pass this values to LLM\n",
    "llm_with_tools.invoke(messages)"
   ]
  },
  {
   "cell_type": "code",
   "execution_count": null,
   "metadata": {},
   "outputs": [],
   "source": [
    "# It is not an AI Agent "
   ]
  }
 ],
 "metadata": {
  "kernelspec": {
   "display_name": "venv",
   "language": "python",
   "name": "python3"
  },
  "language_info": {
   "codemirror_mode": {
    "name": "ipython",
    "version": 3
   },
   "file_extension": ".py",
   "mimetype": "text/x-python",
   "name": "python",
   "nbconvert_exporter": "python",
   "pygments_lexer": "ipython3",
   "version": "3.10.11"
  }
 },
 "nbformat": 4,
 "nbformat_minor": 5
}
