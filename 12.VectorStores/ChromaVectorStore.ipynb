{
  "cells": [
    {
      "cell_type": "code",
      "execution_count": 1,
      "metadata": {
        "id": "7vB48DefNaGd"
      },
      "outputs": [],
      "source": [
        "# !pip install langchain chromadb  tiktoken pypdf langchain_groq langchain_community"
      ]
    },
    {
      "cell_type": "code",
      "execution_count": 2,
      "metadata": {
        "id": "pIPzdrrBNgIL"
      },
      "outputs": [],
      "source": [
        "from langchain.vectorstores import Chroma\n",
        "from langchain_community.embeddings import HuggingFaceEmbeddings\n",
        "from langchain.schema import Document"
      ]
    },
    {
      "cell_type": "code",
      "execution_count": 3,
      "metadata": {
        "id": "UmyXYFPCNgLM"
      },
      "outputs": [],
      "source": [
        "doc1 = Document(\n",
        "        page_content=\"Virat Kohli is one of the most successful and consistent batsmen in IPL history. Known for his aggressive batting style and fitness, he has led the Royal Challengers Bangalore in multiple seasons.\",\n",
        "        metadata={\"team\": \"Royal Challengers Bangalore\"}\n",
        "    )\n",
        "doc2 = Document(\n",
        "        page_content=\"Rohit Sharma is the most successful captain in IPL history, leading Mumbai Indians to five titles. He's known for his calm demeanor and ability to play big innings under pressure.\",\n",
        "        metadata={\"team\": \"Mumbai Indians\"}\n",
        "    )\n",
        "doc3 = Document(\n",
        "        page_content=\"MS Dhoni, famously known as Captain Cool, has led Chennai Super Kings to multiple IPL titles. His finishing skills, wicketkeeping, and leadership are legendary.\",\n",
        "        metadata={\"team\": \"Chennai Super Kings\"}\n",
        "    )\n",
        "doc4 = Document(\n",
        "        page_content=\"Jasprit Bumrah is considered one of the best fast bowlers in T20 cricket. Playing for Mumbai Indians, he is known for his yorkers and death-over expertise.\",\n",
        "        metadata={\"team\": \"Mumbai Indians\"}\n",
        "    )\n",
        "doc5 = Document(\n",
        "        page_content=\"Ravindra Jadeja is a dynamic all-rounder who contributes with both bat and ball. Representing Chennai Super Kings, his quick fielding and match-winning performances make him a key player.\",\n",
        "        metadata={\"team\": \"Chennai Super Kings\"}\n",
        "    )"
      ]
    },
    {
      "cell_type": "code",
      "execution_count": 4,
      "metadata": {
        "id": "r1u5WxDQNgM1"
      },
      "outputs": [],
      "source": [
        "docs = [doc1,doc2,doc3,doc4,doc5]"
      ]
    },
    {
      "cell_type": "code",
      "execution_count": 5,
      "metadata": {
        "id": "BHB193bXid2i"
      },
      "outputs": [
        {
          "name": "stderr",
          "output_type": "stream",
          "text": [
            "C:\\Users\\akash\\AppData\\Local\\Temp\\ipykernel_5884\\2621033976.py:2: LangChainDeprecationWarning: The class `HuggingFaceEmbeddings` was deprecated in LangChain 0.2.2 and will be removed in 1.0. An updated version of the class exists in the :class:`~langchain-huggingface package and should be used instead. To use it run `pip install -U :class:`~langchain-huggingface` and import as `from :class:`~langchain_huggingface import HuggingFaceEmbeddings``.\n",
            "  embedding_model = HuggingFaceEmbeddings(\n",
            "e:\\15_CampusX_LangChain\\venv\\lib\\site-packages\\tqdm\\auto.py:21: TqdmWarning: IProgress not found. Please update jupyter and ipywidgets. See https://ipywidgets.readthedocs.io/en/stable/user_install.html\n",
            "  from .autonotebook import tqdm as notebook_tqdm\n"
          ]
        }
      ],
      "source": [
        "# Embedding Setup\n",
        "embedding_model = HuggingFaceEmbeddings(\n",
        "    model_name = 'intfloat/e5-small',\n",
        "    encode_kwargs={'normalize_embeddings':True}\n",
        ")"
      ]
    },
    {
      "cell_type": "code",
      "execution_count": 6,
      "metadata": {
        "id": "qNiBYZZdPqIa"
      },
      "outputs": [
        {
          "name": "stderr",
          "output_type": "stream",
          "text": [
            "C:\\Users\\akash\\AppData\\Local\\Temp\\ipykernel_5884\\2905894603.py:2: LangChainDeprecationWarning: The class `Chroma` was deprecated in LangChain 0.2.9 and will be removed in 1.0. An updated version of the class exists in the :class:`~langchain-chroma package and should be used instead. To use it run `pip install -U :class:`~langchain-chroma` and import as `from :class:`~langchain_chroma import Chroma``.\n",
            "  vector_store = Chroma(\n"
          ]
        }
      ],
      "source": [
        "# Vector Store Setup\n",
        "vector_store = Chroma(\n",
        "    embedding_function = embedding_model,\n",
        "    persist_directory='my_chroma_db',\n",
        "    collection_name='sample'\n",
        ")"
      ]
    },
    {
      "cell_type": "code",
      "execution_count": 7,
      "metadata": {
        "colab": {
          "base_uri": "https://localhost:8080/"
        },
        "id": "U_yNfsZfPqLT",
        "outputId": "6093d059-80c5-4f65-b63d-ce8fe4e493e4"
      },
      "outputs": [
        {
          "data": {
            "text/plain": [
              "['37904f34-7b3f-490a-9081-9a8796d91f38',\n",
              " 'f60a5dab-457c-4063-bbf0-067728e5d076',\n",
              " 'b6998d39-af1d-43f2-8b0e-9471e67826e7',\n",
              " '256a1ec1-dde5-4c95-84b7-c4e73e3b2c6a',\n",
              " '22a94aea-525b-4eb4-be8c-ab9722e6d85b']"
            ]
          },
          "execution_count": 7,
          "metadata": {},
          "output_type": "execute_result"
        }
      ],
      "source": [
        "# Add Documents -> we can pass our own id as well\n",
        "vector_store.add_documents(docs)"
      ]
    },
    {
      "cell_type": "code",
      "execution_count": 8,
      "metadata": {
        "colab": {
          "base_uri": "https://localhost:8080/"
        },
        "id": "7OiMPIQ3PqN2",
        "outputId": "7e904352-7a24-4929-b501-9ced27eb097a"
      },
      "outputs": [
        {
          "data": {
            "text/plain": [
              "{'ids': ['37904f34-7b3f-490a-9081-9a8796d91f38',\n",
              "  'f60a5dab-457c-4063-bbf0-067728e5d076',\n",
              "  'b6998d39-af1d-43f2-8b0e-9471e67826e7',\n",
              "  '256a1ec1-dde5-4c95-84b7-c4e73e3b2c6a',\n",
              "  '22a94aea-525b-4eb4-be8c-ab9722e6d85b'],\n",
              " 'embeddings': array([[ 0.01901846, -0.0149825 , -0.08518276, ...,  0.01487342,\n",
              "         -0.00130043,  0.08019215],\n",
              "        [ 0.01963638, -0.03145466, -0.07003246, ...,  0.00115768,\n",
              "          0.00951148,  0.06269166],\n",
              "        [ 0.01976115, -0.03853022, -0.12037989, ..., -0.01708872,\n",
              "          0.02141127,  0.07051495],\n",
              "        [-0.00270023, -0.02594806, -0.05797949, ..., -0.00857933,\n",
              "          0.00691614,  0.02974596],\n",
              "        [ 0.00416733, -0.04619418, -0.06100056, ...,  0.01147636,\n",
              "          0.00969743,  0.0715995 ]], shape=(5, 384)),\n",
              " 'documents': ['Virat Kohli is one of the most successful and consistent batsmen in IPL history. Known for his aggressive batting style and fitness, he has led the Royal Challengers Bangalore in multiple seasons.',\n",
              "  \"Rohit Sharma is the most successful captain in IPL history, leading Mumbai Indians to five titles. He's known for his calm demeanor and ability to play big innings under pressure.\",\n",
              "  'MS Dhoni, famously known as Captain Cool, has led Chennai Super Kings to multiple IPL titles. His finishing skills, wicketkeeping, and leadership are legendary.',\n",
              "  'Jasprit Bumrah is considered one of the best fast bowlers in T20 cricket. Playing for Mumbai Indians, he is known for his yorkers and death-over expertise.',\n",
              "  'Ravindra Jadeja is a dynamic all-rounder who contributes with both bat and ball. Representing Chennai Super Kings, his quick fielding and match-winning performances make him a key player.'],\n",
              " 'uris': None,\n",
              " 'included': ['embeddings', 'documents', 'metadatas'],\n",
              " 'data': None,\n",
              " 'metadatas': [{'team': 'Royal Challengers Bangalore'},\n",
              "  {'team': 'Mumbai Indians'},\n",
              "  {'team': 'Chennai Super Kings'},\n",
              "  {'team': 'Mumbai Indians'},\n",
              "  {'team': 'Chennai Super Kings'}]}"
            ]
          },
          "execution_count": 8,
          "metadata": {},
          "output_type": "execute_result"
        }
      ],
      "source": [
        "# View documents\n",
        "vector_store.get(include=['embeddings','documents','metadatas'])"
      ]
    },
    {
      "cell_type": "code",
      "execution_count": 9,
      "metadata": {
        "colab": {
          "base_uri": "https://localhost:8080/"
        },
        "id": "xKbM4PpEPqPY",
        "outputId": "7c50270b-4ccc-49f0-f715-40d48473054d"
      },
      "outputs": [
        {
          "data": {
            "text/plain": [
              "[Document(metadata={'team': 'Mumbai Indians'}, page_content='Jasprit Bumrah is considered one of the best fast bowlers in T20 cricket. Playing for Mumbai Indians, he is known for his yorkers and death-over expertise.'),\n",
              " Document(metadata={'team': 'Chennai Super Kings'}, page_content='Ravindra Jadeja is a dynamic all-rounder who contributes with both bat and ball. Representing Chennai Super Kings, his quick fielding and match-winning performances make him a key player.')]"
            ]
          },
          "execution_count": 9,
          "metadata": {},
          "output_type": "execute_result"
        }
      ],
      "source": [
        "# Search Documents\n",
        "vector_store.similarity_search(\n",
        "    query='Who among these are a bowler?',\n",
        "    k = 2\n",
        ")"
      ]
    },
    {
      "cell_type": "code",
      "execution_count": 10,
      "metadata": {
        "colab": {
          "base_uri": "https://localhost:8080/"
        },
        "id": "tohKmre6PqSo",
        "outputId": "03bbfe98-efb7-4c3a-83e9-b0fe3dc9a05b"
      },
      "outputs": [
        {
          "data": {
            "text/plain": [
              "[(Document(metadata={'team': 'Mumbai Indians'}, page_content='Jasprit Bumrah is considered one of the best fast bowlers in T20 cricket. Playing for Mumbai Indians, he is known for his yorkers and death-over expertise.'),\n",
              "  0.34315598011016846)]"
            ]
          },
          "execution_count": 10,
          "metadata": {},
          "output_type": "execute_result"
        }
      ],
      "source": [
        "# Search with similarity Score\n",
        "vector_store.similarity_search_with_score(\n",
        "    query = \"Who among these are bowler?\",\n",
        "    k=1\n",
        ")"
      ]
    },
    {
      "cell_type": "code",
      "execution_count": 11,
      "metadata": {
        "colab": {
          "base_uri": "https://localhost:8080/"
        },
        "id": "qsUiwmJePqUm",
        "outputId": "6586a40f-422c-4687-94c6-420e67054d8b"
      },
      "outputs": [
        {
          "data": {
            "text/plain": [
              "[(Document(metadata={'team': 'Chennai Super Kings'}, page_content='Ravindra Jadeja is a dynamic all-rounder who contributes with both bat and ball. Representing Chennai Super Kings, his quick fielding and match-winning performances make him a key player.'),\n",
              "  0.4943498373031616),\n",
              " (Document(metadata={'team': 'Chennai Super Kings'}, page_content='MS Dhoni, famously known as Captain Cool, has led Chennai Super Kings to multiple IPL titles. His finishing skills, wicketkeeping, and leadership are legendary.'),\n",
              "  0.5313642024993896)]"
            ]
          },
          "execution_count": 11,
          "metadata": {},
          "output_type": "execute_result"
        }
      ],
      "source": [
        "# Meta-data Filtering\n",
        "vector_store.similarity_search_with_score(\n",
        "    query=\"\",\n",
        "    filter = {'team':\"Chennai Super Kings\"}\n",
        ")"
      ]
    },
    {
      "cell_type": "code",
      "execution_count": 12,
      "metadata": {
        "id": "LN-lZJb1PqXZ"
      },
      "outputs": [],
      "source": [
        "# Update documents\n",
        "updated_doc1 = Document(\n",
        "    page_content=\"Virat Kohli, the former captain of Royal Challengers Bangalore (RCB), is renowned for his aggressive leadership and consistent batting performances. He holds the record for the most runs in IPL history, including multiple centuries in a single season. Despite RCB not winning an IPL title under his captaincy, Kohli's passion and fitness set a benchmark for the league. His ability to chase targets and anchor innings has made him one of the most dependable players in T20 cricket.\",\n",
        "    metadata={\"team\":\"Royal Challengers Bangalore\"}\n",
        ")\n",
        "vector_store.update_document(document_id='f413bbc2-6aeb-4e09-87e1-b6ccaff004ed',document=updated_doc1)"
      ]
    },
    {
      "cell_type": "code",
      "execution_count": 13,
      "metadata": {
        "colab": {
          "base_uri": "https://localhost:8080/"
        },
        "id": "N4Vi0DOxPqcW",
        "outputId": "50687961-8fae-4ee9-a7c3-bc6f3dac99dc"
      },
      "outputs": [
        {
          "data": {
            "text/plain": [
              "{'ids': ['37904f34-7b3f-490a-9081-9a8796d91f38',\n",
              "  'f60a5dab-457c-4063-bbf0-067728e5d076',\n",
              "  'b6998d39-af1d-43f2-8b0e-9471e67826e7',\n",
              "  '256a1ec1-dde5-4c95-84b7-c4e73e3b2c6a',\n",
              "  '22a94aea-525b-4eb4-be8c-ab9722e6d85b'],\n",
              " 'embeddings': array([[ 0.01901846, -0.0149825 , -0.08518276, ...,  0.01487342,\n",
              "         -0.00130043,  0.08019215],\n",
              "        [ 0.01963638, -0.03145466, -0.07003246, ...,  0.00115768,\n",
              "          0.00951148,  0.06269166],\n",
              "        [ 0.01976115, -0.03853022, -0.12037989, ..., -0.01708872,\n",
              "          0.02141127,  0.07051495],\n",
              "        [-0.00270023, -0.02594806, -0.05797949, ..., -0.00857933,\n",
              "          0.00691614,  0.02974596],\n",
              "        [ 0.00416733, -0.04619418, -0.06100056, ...,  0.01147636,\n",
              "          0.00969743,  0.0715995 ]], shape=(5, 384)),\n",
              " 'documents': ['Virat Kohli is one of the most successful and consistent batsmen in IPL history. Known for his aggressive batting style and fitness, he has led the Royal Challengers Bangalore in multiple seasons.',\n",
              "  \"Rohit Sharma is the most successful captain in IPL history, leading Mumbai Indians to five titles. He's known for his calm demeanor and ability to play big innings under pressure.\",\n",
              "  'MS Dhoni, famously known as Captain Cool, has led Chennai Super Kings to multiple IPL titles. His finishing skills, wicketkeeping, and leadership are legendary.',\n",
              "  'Jasprit Bumrah is considered one of the best fast bowlers in T20 cricket. Playing for Mumbai Indians, he is known for his yorkers and death-over expertise.',\n",
              "  'Ravindra Jadeja is a dynamic all-rounder who contributes with both bat and ball. Representing Chennai Super Kings, his quick fielding and match-winning performances make him a key player.'],\n",
              " 'uris': None,\n",
              " 'included': ['embeddings', 'documents', 'metadatas'],\n",
              " 'data': None,\n",
              " 'metadatas': [{'team': 'Royal Challengers Bangalore'},\n",
              "  {'team': 'Mumbai Indians'},\n",
              "  {'team': 'Chennai Super Kings'},\n",
              "  {'team': 'Mumbai Indians'},\n",
              "  {'team': 'Chennai Super Kings'}]}"
            ]
          },
          "execution_count": 13,
          "metadata": {},
          "output_type": "execute_result"
        }
      ],
      "source": [
        "vector_store.get(include=['embeddings','documents','metadatas'])"
      ]
    },
    {
      "cell_type": "code",
      "execution_count": 14,
      "metadata": {
        "id": "rAkZHHpUNgPJ"
      },
      "outputs": [],
      "source": [
        "# Delete Documents\n",
        "vector_store.delete(ids=['dd63e793-9b42-40ad-aade-2ec03e4473ba'])"
      ]
    },
    {
      "cell_type": "code",
      "execution_count": 15,
      "metadata": {
        "colab": {
          "base_uri": "https://localhost:8080/"
        },
        "id": "r8Bro1F7m1hf",
        "outputId": "fa29a63e-4630-4f01-f340-e592fbfa126e"
      },
      "outputs": [
        {
          "data": {
            "text/plain": [
              "{'ids': ['37904f34-7b3f-490a-9081-9a8796d91f38',\n",
              "  'f60a5dab-457c-4063-bbf0-067728e5d076',\n",
              "  'b6998d39-af1d-43f2-8b0e-9471e67826e7',\n",
              "  '256a1ec1-dde5-4c95-84b7-c4e73e3b2c6a',\n",
              "  '22a94aea-525b-4eb4-be8c-ab9722e6d85b'],\n",
              " 'embeddings': array([[ 0.01901846, -0.0149825 , -0.08518276, ...,  0.01487342,\n",
              "         -0.00130043,  0.08019215],\n",
              "        [ 0.01963638, -0.03145466, -0.07003246, ...,  0.00115768,\n",
              "          0.00951148,  0.06269166],\n",
              "        [ 0.01976115, -0.03853022, -0.12037989, ..., -0.01708872,\n",
              "          0.02141127,  0.07051495],\n",
              "        [-0.00270023, -0.02594806, -0.05797949, ..., -0.00857933,\n",
              "          0.00691614,  0.02974596],\n",
              "        [ 0.00416733, -0.04619418, -0.06100056, ...,  0.01147636,\n",
              "          0.00969743,  0.0715995 ]], shape=(5, 384)),\n",
              " 'documents': ['Virat Kohli is one of the most successful and consistent batsmen in IPL history. Known for his aggressive batting style and fitness, he has led the Royal Challengers Bangalore in multiple seasons.',\n",
              "  \"Rohit Sharma is the most successful captain in IPL history, leading Mumbai Indians to five titles. He's known for his calm demeanor and ability to play big innings under pressure.\",\n",
              "  'MS Dhoni, famously known as Captain Cool, has led Chennai Super Kings to multiple IPL titles. His finishing skills, wicketkeeping, and leadership are legendary.',\n",
              "  'Jasprit Bumrah is considered one of the best fast bowlers in T20 cricket. Playing for Mumbai Indians, he is known for his yorkers and death-over expertise.',\n",
              "  'Ravindra Jadeja is a dynamic all-rounder who contributes with both bat and ball. Representing Chennai Super Kings, his quick fielding and match-winning performances make him a key player.'],\n",
              " 'uris': None,\n",
              " 'included': ['embeddings', 'documents', 'metadatas'],\n",
              " 'data': None,\n",
              " 'metadatas': [{'team': 'Royal Challengers Bangalore'},\n",
              "  {'team': 'Mumbai Indians'},\n",
              "  {'team': 'Chennai Super Kings'},\n",
              "  {'team': 'Mumbai Indians'},\n",
              "  {'team': 'Chennai Super Kings'}]}"
            ]
          },
          "execution_count": 15,
          "metadata": {},
          "output_type": "execute_result"
        }
      ],
      "source": [
        "vector_store.get(include=['embeddings','documents','metadatas'])"
      ]
    },
    {
      "cell_type": "code",
      "execution_count": null,
      "metadata": {
        "id": "_IzzH03im1kd"
      },
      "outputs": [],
      "source": []
    },
    {
      "cell_type": "code",
      "execution_count": null,
      "metadata": {
        "id": "pIdzb7Svm1nA"
      },
      "outputs": [],
      "source": []
    },
    {
      "cell_type": "code",
      "execution_count": null,
      "metadata": {
        "id": "d7rdEp6pm1q0"
      },
      "outputs": [],
      "source": []
    }
  ],
  "metadata": {
    "colab": {
      "provenance": []
    },
    "kernelspec": {
      "display_name": "venv",
      "language": "python",
      "name": "python3"
    },
    "language_info": {
      "codemirror_mode": {
        "name": "ipython",
        "version": 3
      },
      "file_extension": ".py",
      "mimetype": "text/x-python",
      "name": "python",
      "nbconvert_exporter": "python",
      "pygments_lexer": "ipython3",
      "version": "3.10.11"
    }
  },
  "nbformat": 4,
  "nbformat_minor": 0
}
