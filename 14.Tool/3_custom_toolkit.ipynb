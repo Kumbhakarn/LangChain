{
 "cells": [
  {
   "cell_type": "code",
   "execution_count": null,
   "id": "dedbaca2",
   "metadata": {},
   "outputs": [],
   "source": [
    "from langchain_core.tools import tool"
   ]
  },
  {
   "cell_type": "code",
   "execution_count": 3,
   "id": "c993d422",
   "metadata": {},
   "outputs": [],
   "source": [
    "# Custom tools\n",
    "@tool\n",
    "def add(a:int,b:int) -> int:\n",
    "    \"\"\"Add two numbers\"\"\"\n",
    "    return a + b\n",
    "\n",
    "@tool\n",
    "def multiply(a:int,b:int) ->int:\n",
    "    \"\"\"Multiply two numbers\"\"\"\n",
    "    return a * b\n"
   ]
  },
  {
   "cell_type": "code",
   "execution_count": 5,
   "id": "3d473785",
   "metadata": {},
   "outputs": [],
   "source": [
    "#  make a class for toolkit\n",
    "class MathToolkit:\n",
    "    def get_tools(self):\n",
    "        return [add,multiply]"
   ]
  },
  {
   "cell_type": "code",
   "execution_count": 6,
   "metadata": {},
   "outputs": [
    {
     "name": "stdout",
     "output_type": "stream",
     "text": [
      "add => Add two numbers\n",
      "multiply => Multiply two numbers\n"
     ]
    }
   ],
   "source": [
    "# make object of the class \n",
    "toolkit = MathToolkit()\n",
    "tools = toolkit.get_tools()\n",
    "\n",
    "for tool in tools:\n",
    "    print(tool.name,\"=>\",tool.description)"
   ]
  },
  {
   "cell_type": "code",
   "execution_count": null,
   "metadata": {},
   "outputs": [],
   "source": [
    "# Mathtool kit"
   ]
  },
  {
   "cell_type": "code",
   "execution_count": null,
   "metadata": {},
   "outputs": [],
   "source": []
  }
 ],
 "metadata": {
  "kernelspec": {
   "display_name": "venv",
   "language": "python",
   "name": "python3"
  },
  "language_info": {
   "codemirror_mode": {
    "name": "ipython",
    "version": 3
   },
   "file_extension": ".py",
   "mimetype": "text/x-python",
   "name": "python",
   "nbconvert_exporter": "python",
   "pygments_lexer": "ipython3",
   "version": "3.10.11"
  }
 },
 "nbformat": 4,
 "nbformat_minor": 5
}
