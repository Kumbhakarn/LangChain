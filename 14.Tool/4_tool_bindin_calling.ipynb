{
 "cells": [
  {
   "cell_type": "code",
   "execution_count": null,
   "id": "c6dd3f39",
   "metadata": {},
   "outputs": [],
   "source": [
    "from langchain_groq import ChatGroq\n",
    "from langchain_core.tools import tool\n",
    "from langchain_core.messages import HumanMessage\n",
    "import requests"
   ]
  },
  {
   "cell_type": "markdown",
   "id": "509acb07",
   "metadata": {},
   "source": [
    "### TOOL Creation"
   ]
  },
  {
   "cell_type": "code",
   "execution_count": 91,
   "id": "9666a089",
   "metadata": {},
   "outputs": [],
   "source": [
    "# Tool Create\n",
    "\n",
    "@tool\n",
    "def multiply(a:int,b:int)->int:\n",
    "    \"\"\"Given 2 numbers a and b this tool returns their ptoduct\"\"\"\n",
    "    return a * b"
   ]
  },
  {
   "cell_type": "code",
   "execution_count": 92,
   "id": "b2883899",
   "metadata": {},
   "outputs": [
    {
     "name": "stdout",
     "output_type": "stream",
     "text": [
      "15\n",
      "multiply\n",
      "Given 2 numbers a and b this tool returns their ptoduct\n",
      "{'a': {'title': 'A', 'type': 'integer'}, 'b': {'title': 'B', 'type': 'integer'}}\n"
     ]
    }
   ],
   "source": [
    "print(multiply.invoke({'a':3,'b':5}))\n",
    "print(multiply.name)\n",
    "print(multiply.description)\n",
    "print(multiply.args)"
   ]
  },
  {
   "cell_type": "code",
   "execution_count": 93,
   "id": "b20bd811",
   "metadata": {},
   "outputs": [],
   "source": [
    "# tool calling\n",
    "llm = ChatGroq(\n",
    "    model_name='llama3-8b-8192',\n",
    "    temperature = 0.5,\n",
    "    streaming=False\n",
    ")"
   ]
  },
  {
   "cell_type": "markdown",
   "id": "915fd97b",
   "metadata": {},
   "source": [
    "### TOOL Binding"
   ]
  },
  {
   "cell_type": "code",
   "execution_count": 94,
   "id": "897a6c90",
   "metadata": {},
   "outputs": [],
   "source": [
    "# Binding tools\n",
    "llm_with_tools = llm.bind_tools([multiply])\n",
    "# Not every llm has this capability to bind the tools "
   ]
  },
  {
   "cell_type": "code",
   "execution_count": 95,
   "id": "e289f5d6",
   "metadata": {},
   "outputs": [],
   "source": [
    "# When and where llm can call the tool"
   ]
  },
  {
   "cell_type": "markdown",
   "id": "44a23651",
   "metadata": {},
   "source": [
    "### TOOL Calling"
   ]
  },
  {
   "cell_type": "code",
   "execution_count": 96,
   "id": "76af0e97",
   "metadata": {},
   "outputs": [
    {
     "data": {
      "text/plain": [
       "AIMessage(content='', additional_kwargs={'tool_calls': [{'id': 'call_yfyn', 'function': {'arguments': '{\"a\":3,\"b\":10}', 'name': 'multiply'}, 'type': 'function'}]}, response_metadata={'token_usage': {'completion_tokens': 72, 'prompt_tokens': 910, 'total_tokens': 982, 'completion_time': 0.06, 'prompt_time': 0.169961119, 'queue_time': 0.256547712, 'total_time': 0.229961119}, 'model_name': 'llama3-8b-8192', 'system_fingerprint': 'fp_179b0f92c9', 'finish_reason': 'tool_calls', 'logprobs': None}, id='run--f243f4fb-f488-431e-b479-1afb67b39cf8-0', tool_calls=[{'name': 'multiply', 'args': {'a': 3, 'b': 10}, 'id': 'call_yfyn', 'type': 'tool_call'}], usage_metadata={'input_tokens': 910, 'output_tokens': 72, 'total_tokens': 982})"
      ]
     },
     "execution_count": 96,
     "metadata": {},
     "output_type": "execute_result"
    }
   ],
   "source": [
    "llm_with_tools.invoke(\"can you multiply 3 with 10\")"
   ]
  },
  {
   "cell_type": "code",
   "execution_count": 97,
   "id": "d5ed4730",
   "metadata": {},
   "outputs": [
    {
     "data": {
      "text/plain": [
       "[{'name': 'multiply',\n",
       "  'args': {'a': 3, 'b': 10},\n",
       "  'id': 'call_pfsk',\n",
       "  'type': 'tool_call'}]"
      ]
     },
     "execution_count": 97,
     "metadata": {},
     "output_type": "execute_result"
    }
   ],
   "source": [
    "llm_with_tools.invoke(\"can you multiply 3 with 10\").tool_calls"
   ]
  },
  {
   "cell_type": "code",
   "execution_count": 98,
   "id": "0067ddf5",
   "metadata": {},
   "outputs": [
    {
     "data": {
      "text/plain": [
       "{'name': 'multiply',\n",
       " 'args': {'a': 3, 'b': 10},\n",
       " 'id': 'call_70pd',\n",
       " 'type': 'tool_call'}"
      ]
     },
     "execution_count": 98,
     "metadata": {},
     "output_type": "execute_result"
    }
   ],
   "source": [
    "llm_with_tools.invoke(\"can you multiply 3 with 10\").tool_calls[0]"
   ]
  },
  {
   "cell_type": "code",
   "execution_count": 99,
   "id": "c21d2aac",
   "metadata": {},
   "outputs": [],
   "source": [
    "result = llm_with_tools.invoke(\"can you multiply 3 with 10\")"
   ]
  },
  {
   "cell_type": "code",
   "execution_count": 100,
   "id": "fc999f49",
   "metadata": {},
   "outputs": [
    {
     "data": {
      "text/plain": [
       "{'a': 3, 'b': 10}"
      ]
     },
     "execution_count": 100,
     "metadata": {},
     "output_type": "execute_result"
    }
   ],
   "source": [
    "result.tool_calls[0]['args']"
   ]
  },
  {
   "cell_type": "code",
   "execution_count": 101,
   "id": "f4c37210",
   "metadata": {},
   "outputs": [
    {
     "data": {
      "text/plain": [
       "{'name': 'multiply',\n",
       " 'args': {'a': 3, 'b': 10},\n",
       " 'id': 'call_qyj4',\n",
       " 'type': 'tool_call'}"
      ]
     },
     "execution_count": 101,
     "metadata": {},
     "output_type": "execute_result"
    }
   ],
   "source": [
    "result.tool_calls[0]"
   ]
  },
  {
   "cell_type": "markdown",
   "id": "28941458",
   "metadata": {},
   "source": [
    "### TOOL Execution"
   ]
  },
  {
   "cell_type": "code",
   "execution_count": 102,
   "id": "a04a6931",
   "metadata": {},
   "outputs": [
    {
     "data": {
      "text/plain": [
       "30"
      ]
     },
     "execution_count": 102,
     "metadata": {},
     "output_type": "execute_result"
    }
   ],
   "source": [
    "multiply.invoke(result.tool_calls[0]['args'])"
   ]
  },
  {
   "cell_type": "markdown",
   "id": "1be9a661",
   "metadata": {},
   "source": [
    "### Tool Message\n",
    "- We can sent this tool message to llm and LLM will generate the message"
   ]
  },
  {
   "cell_type": "code",
   "execution_count": 103,
   "id": "6d280701",
   "metadata": {},
   "outputs": [
    {
     "data": {
      "text/plain": [
       "ToolMessage(content='30', name='multiply', tool_call_id='call_z4mm')"
      ]
     },
     "execution_count": 103,
     "metadata": {},
     "output_type": "execute_result"
    }
   ],
   "source": [
    "multiply.invoke(\n",
    "    {'name': 'multiply',\n",
    "    'args': {'a': 3, 'b': 10},\n",
    "    'id': 'call_z4mm',\n",
    "    'type': 'tool_call'}\n",
    ")"
   ]
  },
  {
   "cell_type": "code",
   "execution_count": 104,
   "id": "e2aee663",
   "metadata": {},
   "outputs": [],
   "source": [
    "from langchain_core.messages import HumanMessage"
   ]
  },
  {
   "cell_type": "code",
   "execution_count": 105,
   "id": "52aa3f1d",
   "metadata": {},
   "outputs": [],
   "source": [
    "query = HumanMessage(\"can you multiply 7 with 5\")"
   ]
  },
  {
   "cell_type": "code",
   "execution_count": 106,
   "id": "8f648444",
   "metadata": {},
   "outputs": [],
   "source": [
    "messages = [query]"
   ]
  },
  {
   "cell_type": "code",
   "execution_count": 107,
   "id": "fc379427",
   "metadata": {},
   "outputs": [
    {
     "data": {
      "text/plain": [
       "[HumanMessage(content='can you multiply 7 with 5', additional_kwargs={}, response_metadata={})]"
      ]
     },
     "execution_count": 107,
     "metadata": {},
     "output_type": "execute_result"
    }
   ],
   "source": [
    "messages"
   ]
  },
  {
   "cell_type": "code",
   "execution_count": 108,
   "id": "2208a2ab",
   "metadata": {},
   "outputs": [],
   "source": [
    "result = llm_with_tools.invoke(messages)"
   ]
  },
  {
   "cell_type": "code",
   "execution_count": 109,
   "id": "12cbb9a0",
   "metadata": {},
   "outputs": [],
   "source": [
    "messages.append(result)"
   ]
  },
  {
   "cell_type": "code",
   "execution_count": 110,
   "id": "31b568c7",
   "metadata": {},
   "outputs": [
    {
     "data": {
      "text/plain": [
       "[HumanMessage(content='can you multiply 7 with 5', additional_kwargs={}, response_metadata={}),\n",
       " AIMessage(content='', additional_kwargs={'tool_calls': [{'id': 'call_9g4k', 'function': {'arguments': '{\"a\":7,\"b\":5}', 'name': 'multiply'}, 'type': 'function'}]}, response_metadata={'token_usage': {'completion_tokens': 72, 'prompt_tokens': 910, 'total_tokens': 982, 'completion_time': 0.06, 'prompt_time': 0.170856164, 'queue_time': 0.26651569399999997, 'total_time': 0.230856164}, 'model_name': 'llama3-8b-8192', 'system_fingerprint': 'fp_179b0f92c9', 'finish_reason': 'tool_calls', 'logprobs': None}, id='run--69b41588-ab59-4f33-962f-a44cf775b71f-0', tool_calls=[{'name': 'multiply', 'args': {'a': 7, 'b': 5}, 'id': 'call_9g4k', 'type': 'tool_call'}], usage_metadata={'input_tokens': 910, 'output_tokens': 72, 'total_tokens': 982})]"
      ]
     },
     "execution_count": 110,
     "metadata": {},
     "output_type": "execute_result"
    }
   ],
   "source": [
    "messages"
   ]
  },
  {
   "cell_type": "code",
   "execution_count": 111,
   "id": "35a9ff54",
   "metadata": {},
   "outputs": [],
   "source": [
    "tool_result = multiply.invoke(result.tool_calls[0])"
   ]
  },
  {
   "cell_type": "code",
   "execution_count": 112,
   "id": "9dc89f05",
   "metadata": {},
   "outputs": [],
   "source": [
    "messages.append(tool_result)"
   ]
  },
  {
   "cell_type": "code",
   "execution_count": 113,
   "id": "4778f3db",
   "metadata": {},
   "outputs": [
    {
     "data": {
      "text/plain": [
       "[HumanMessage(content='can you multiply 7 with 5', additional_kwargs={}, response_metadata={}),\n",
       " AIMessage(content='', additional_kwargs={'tool_calls': [{'id': 'call_9g4k', 'function': {'arguments': '{\"a\":7,\"b\":5}', 'name': 'multiply'}, 'type': 'function'}]}, response_metadata={'token_usage': {'completion_tokens': 72, 'prompt_tokens': 910, 'total_tokens': 982, 'completion_time': 0.06, 'prompt_time': 0.170856164, 'queue_time': 0.26651569399999997, 'total_time': 0.230856164}, 'model_name': 'llama3-8b-8192', 'system_fingerprint': 'fp_179b0f92c9', 'finish_reason': 'tool_calls', 'logprobs': None}, id='run--69b41588-ab59-4f33-962f-a44cf775b71f-0', tool_calls=[{'name': 'multiply', 'args': {'a': 7, 'b': 5}, 'id': 'call_9g4k', 'type': 'tool_call'}], usage_metadata={'input_tokens': 910, 'output_tokens': 72, 'total_tokens': 982}),\n",
       " ToolMessage(content='35', name='multiply', tool_call_id='call_9g4k')]"
      ]
     },
     "execution_count": 113,
     "metadata": {},
     "output_type": "execute_result"
    }
   ],
   "source": [
    "# Maintaining the conversational History\n",
    "messages"
   ]
  },
  {
   "cell_type": "code",
   "execution_count": null,
   "metadata": {},
   "outputs": [
    {
     "data": {
      "text/plain": [
       "AIMessage(content='35', additional_kwargs={}, response_metadata={'token_usage': {'completion_tokens': 2, 'prompt_tokens': 981, 'total_tokens': 983, 'completion_time': 0.001666667, 'prompt_time': 0.121812234, 'queue_time': 0.257826097, 'total_time': 0.123478901}, 'model_name': 'llama3-8b-8192', 'system_fingerprint': 'fp_179b0f92c9', 'finish_reason': 'stop', 'logprobs': None}, id='run--15aecca2-2286-45c4-9604-c2c9a121dbd9-0', usage_metadata={'input_tokens': 981, 'output_tokens': 2, 'total_tokens': 983})"
      ]
     },
     "execution_count": 114,
     "metadata": {},
     "output_type": "execute_result"
    }
   ],
   "source": [
    "# After maintaining conversational history we feed it to the llm\n",
    "llm_with_tools.invoke(messages)\n"
   ]
  },
  {
   "cell_type": "code",
   "execution_count": 115,
   "id": "d1adfe98",
   "metadata": {},
   "outputs": [
    {
     "data": {
      "text/plain": [
       "'35'"
      ]
     },
     "execution_count": 115,
     "metadata": {},
     "output_type": "execute_result"
    }
   ],
   "source": [
    "llm_with_tools.invoke(messages).content"
   ]
  }
 ],
 "metadata": {
  "kernelspec": {
   "display_name": "venv",
   "language": "python",
   "name": "python3"
  },
  "language_info": {
   "codemirror_mode": {
    "name": "ipython",
    "version": 3
   },
   "file_extension": ".py",
   "mimetype": "text/x-python",
   "name": "python",
   "nbconvert_exporter": "python",
   "pygments_lexer": "ipython3",
   "version": "3.10.11"
  }
 },
 "nbformat": 4,
 "nbformat_minor": 5
}
